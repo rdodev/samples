{
 "cells": [
  {
   "cell_type": "code",
   "execution_count": 1,
   "id": "6d28347f",
   "metadata": {},
   "outputs": [],
   "source": [
    "import great_expectations as gx\n",
    "from great_expectations.checkpoint import SimpleCheckpoint\n",
    "\n",
    "# Set up\n",
    "context = gx.get_context()"
   ]
  },
  {
   "cell_type": "markdown",
   "id": "4eadeab2",
   "metadata": {},
   "source": [
    "### Standard way of setting up a FileSystem DataSource\n",
    "```\n",
    "datasource_yaml = f\"\"\"\n",
    "name: my_s3_datasource\n",
    "class_name: Datasource\n",
    "execution_engine:\n",
    "    class_name: PandasExecutionEngine\n",
    "data_connectors:\n",
    "    default_runtime_data_connector_name:\n",
    "        class_name: RuntimeDataConnector\n",
    "        batch_identifiers:\n",
    "            - default_identifier_name\n",
    "    default_inferred_data_connector_name:\n",
    "        class_name: InferredAssetS3DataConnector\n",
    "        bucket: demo-gp-taxi-data\n",
    "        default_regex:\n",
    "            pattern: (.*)\\.csv\n",
    "            group_names:\n",
    "                - data_asset_name\n",
    "\"\"\"\n",
    "context.add_datasource(**yaml.load(datasource_yaml))\n",
    "```"
   ]
  },
  {
   "cell_type": "code",
   "execution_count": 2,
   "id": "d5b840de",
   "metadata": {},
   "outputs": [],
   "source": [
    "# Set a few variables\n",
    "datasource_name = \"MyNewS3Datasource\"\n",
    "bucket_name = \"<BUCKET_NAME>\"\n",
    "boto3_options = {}"
   ]
  },
  {
   "cell_type": "code",
   "execution_count": 3,
   "id": "263163aa",
   "metadata": {},
   "outputs": [],
   "source": [
    "\n",
    "data_source = context.sources.add_or_update_pandas_s3(\n",
    "    name=datasource_name, bucket=bucket_name, boto3_options=boto3_options\n",
    ")"
   ]
  },
  {
   "cell_type": "code",
   "execution_count": 10,
   "id": "98d19611",
   "metadata": {},
   "outputs": [],
   "source": [
    "data_asset = data_source.add_csv_asset(\n",
    "    name=\"MyTaxiDataAsset\",\n",
    "    batching_regex=\"yellow_tripdata_sample_2019-01.csv\" \n",
    ")\n"
   ]
  },
  {
   "cell_type": "markdown",
   "id": "3207aab4",
   "metadata": {},
   "source": [
    "### That's it!\n",
    "\n",
    "Now we can use this data source for profiling, validation and documentation"
   ]
  },
  {
   "cell_type": "code",
   "execution_count": 12,
   "id": "6fa73d68",
   "metadata": {},
   "outputs": [
    {
     "data": {
      "application/vnd.jupyter.widget-view+json": {
       "model_id": "8f5c6b3dbdca4ce8bf90f300385b12dc",
       "version_major": 2,
       "version_minor": 0
      },
      "text/plain": [
       "Calculating Metrics:   0%|          | 0/1 [00:00<?, ?it/s]"
      ]
     },
     "metadata": {},
     "output_type": "display_data"
    },
    {
     "data": {
      "application/vnd.jupyter.widget-view+json": {
       "model_id": "fdd39c75469d4b718f61e0cba4669685",
       "version_major": 2,
       "version_minor": 0
      },
      "text/plain": [
       "Calculating Metrics:   0%|          | 0/6 [00:00<?, ?it/s]"
      ]
     },
     "metadata": {},
     "output_type": "display_data"
    },
    {
     "data": {
      "text/plain": [
       "{\n",
       "  \"exception_info\": {\n",
       "    \"raised_exception\": false,\n",
       "    \"exception_traceback\": null,\n",
       "    \"exception_message\": null\n",
       "  },\n",
       "  \"result\": {\n",
       "    \"element_count\": 10000,\n",
       "    \"unexpected_count\": 0,\n",
       "    \"unexpected_percent\": 0.0,\n",
       "    \"partial_unexpected_list\": []\n",
       "  },\n",
       "  \"success\": true,\n",
       "  \"meta\": {}\n",
       "}"
      ]
     },
     "execution_count": 12,
     "metadata": {},
     "output_type": "execute_result"
    }
   ],
   "source": [
    "# Create Expectations\n",
    "exp_suite_name = \"test_suite\"\n",
    "\n",
    "context.create_expectation_suite(\n",
    "    expectation_suite_name=exp_suite_name, overwrite_existing=True\n",
    ")\n",
    "v = context.get_validator(batch_request=data_asset.build_batch_request(), expectation_suite_name=exp_suite_name)\n",
    "# v.head()\n",
    "v.expect_column_values_to_not_be_null(\"pickup_datetime\")"
   ]
  },
  {
   "cell_type": "code",
   "execution_count": 13,
   "id": "c23f7ef4",
   "metadata": {},
   "outputs": [
    {
     "data": {
      "application/vnd.jupyter.widget-view+json": {
       "model_id": "20e7c11e60974bc3ad90e03e59844241",
       "version_major": 2,
       "version_minor": 0
      },
      "text/plain": [
       "Calculating Metrics:   0%|          | 0/8 [00:00<?, ?it/s]"
      ]
     },
     "metadata": {},
     "output_type": "display_data"
    }
   ],
   "source": [
    "# Validate data\n",
    "checkpoint = SimpleCheckpoint( \n",
    "    f\"NY-Taxi-Data\",\n",
    "    context,\n",
    "    validator=v\n",
    ")\n",
    "checkpoint_result = checkpoint.run()"
   ]
  },
  {
   "cell_type": "code",
   "execution_count": 14,
   "id": "25f26f82",
   "metadata": {},
   "outputs": [],
   "source": [
    "# View results\n",
    "validation_result_identifier = checkpoint_result.list_validation_result_identifiers()[0]\n",
    "context.open_data_docs(resource_identifier=validation_result_identifier)"
   ]
  }
 ],
 "metadata": {
  "kernelspec": {
   "display_name": "Python 3 (ipykernel)",
   "language": "python",
   "name": "python3"
  },
  "language_info": {
   "codemirror_mode": {
    "name": "ipython",
    "version": 3
   },
   "file_extension": ".py",
   "mimetype": "text/x-python",
   "name": "python",
   "nbconvert_exporter": "python",
   "pygments_lexer": "ipython3",
   "version": "3.9.10"
  }
 },
 "nbformat": 4,
 "nbformat_minor": 5
}
