{
 "cells": [
  {
   "cell_type": "markdown",
   "id": "2e5e4601",
   "metadata": {},
   "source": [
    "# Create a new pandas Datasource\n",
    "Use this notebook to configure a new pandas Datasource and add it to your project."
   ]
  },
  {
   "cell_type": "code",
   "execution_count": null,
   "id": "2303ae08",
   "metadata": {},
   "outputs": [],
   "source": [
    "from ruamel import yaml\n",
    "import webbrowser\n",
    "\n",
    "import great_expectations as gx\n",
    "from great_expectations.core.batch import Batch, BatchRequest, RuntimeBatchRequest"
   ]
  },
  {
   "cell_type": "code",
   "execution_count": null,
   "id": "f3f69e2d",
   "metadata": {},
   "outputs": [],
   "source": [
    "context = gx.get_context()"
   ]
  },
  {
   "cell_type": "markdown",
   "id": "50f18421",
   "metadata": {},
   "source": [
    "## Customize Your Datasource Configuration\n",
    "\n",
    "**If you are new to Great Expectations Datasources,** you should check out our [how-to documentation](https://docs.greatexpectations.io/docs/guides/connecting_to_your_data/connect_to_data_overview)\n",
    "\n",
    "**My configuration is not so simple - are there more advanced options?**\n",
    "Glad you asked! Datasources are versatile. Please see our [How To Guides](https://docs.greatexpectations.io/docs/guides/connecting_to_your_data/connect_to_data_overview)!\n",
    "\n",
    "Give your datasource a unique name:"
   ]
  },
  {
   "cell_type": "markdown",
   "id": "0de73259",
   "metadata": {},
   "source": [
    "### For files based Datasources:\n",
    "Here we are creating an example configuration.  The configuration contains an **InferredAssetFilesystemDataConnector** which will add a Data Asset for each file in the base directory you provided. It also contains a **RuntimeDataConnector** which can accept filepaths.   This is just an example, and you may customize this as you wish!\n",
    "\n",
    "Also, if you would like to learn more about the **DataConnectors** used in this configuration, including other methods to organize assets, handle multi-file assets, name assets based on parts of a filename, please see our docs on [InferredAssetDataConnectors](https://docs.greatexpectations.io/docs/guides/connecting_to_your_data/how_to_configure_an_inferredassetdataconnector) and [RuntimeDataConnectors](https://docs.greatexpectations.io/docs/guides/connecting_to_your_data/how_to_configure_a_runtimedataconnector).\n"
   ]
  },
  {
   "cell_type": "code",
   "execution_count": null,
   "id": "dc39b158",
   "metadata": {},
   "outputs": [],
   "source": [
    "datasource_yaml = f\"\"\"\n",
    "name: my_s3_datasource\n",
    "class_name: Datasource\n",
    "execution_engine:\n",
    "    class_name: PandasExecutionEngine\n",
    "data_connectors:\n",
    "    default_runtime_data_connector_name:\n",
    "        class_name: RuntimeDataConnector\n",
    "        batch_identifiers:\n",
    "            - default_identifier_name\n",
    "    default_inferred_data_connector_name:\n",
    "        class_name: InferredAssetS3DataConnector\n",
    "        bucket: demo-gp-taxi-data\n",
    "        default_regex:\n",
    "            pattern: (.*)\\.csv\n",
    "            group_names:\n",
    "                - data_asset_name\n",
    "\"\"\"\n",
    "print(datasource_yaml)"
   ]
  },
  {
   "cell_type": "markdown",
   "id": "0833b7d4",
   "metadata": {},
   "source": [
    "# Test Your Datasource Configuration\n",
    "Here we will test your Datasource configuration to make sure it is valid.\n",
    "\n",
    "This `test_yaml_config()` function is meant to enable fast dev loops. **If your\n",
    "configuration is correct, this cell will show you some snippets of the data\n",
    "assets in the data source.** You can continually edit your Datasource config\n",
    "yaml and re-run the cell to check until the new config is valid.\n",
    "\n",
    "If you instead wish to use python instead of yaml to configure your Datasource,\n",
    "you can use `context.add_datasource()` and specify all the required parameters."
   ]
  },
  {
   "cell_type": "code",
   "execution_count": null,
   "id": "24fad595",
   "metadata": {},
   "outputs": [],
   "source": [
    "context.test_yaml_config(yaml_config=datasource_yaml)"
   ]
  },
  {
   "cell_type": "markdown",
   "id": "662f66df",
   "metadata": {},
   "source": [
    "## Save Your Datasource Configuration\n",
    "Here we will save your Datasource in your Data Context once you are satisfied with the configuration. Note that `overwrite_existing` defaults to False, but you may change it to True if you wish to overwrite. Please note that if you wish to include comments you must add them directly to your `great_expectations.yml`."
   ]
  },
  {
   "cell_type": "code",
   "execution_count": null,
   "id": "3aeb96d3",
   "metadata": {},
   "outputs": [],
   "source": [
    "context.add_datasource(**yaml.load(datasource_yaml))\n",
    "context.list_datasources()"
   ]
  },
  {
   "cell_type": "markdown",
   "id": "7fd38a7b",
   "metadata": {},
   "source": [
    "## Create A Batch of Data to Request\n",
    "\n",
    "GX validates data in batches. A batch can be one or many assets. In this case we are going to create a batch with a specific file to validate"
   ]
  },
  {
   "cell_type": "code",
   "execution_count": null,
   "id": "8550f954",
   "metadata": {},
   "outputs": [],
   "source": [
    "# Here is a RuntimeBatchRequest using a path to a single CSV file\n",
    "batch_request = RuntimeBatchRequest(\n",
    "    datasource_name=\"my_s3_datasource\",\n",
    "    data_connector_name=\"default_runtime_data_connector_name\",\n",
    "    data_asset_name=\"2019_taxi_data_january\",  # this can be anything that identifies this data_asset for you\n",
    "    runtime_parameters={\"path\": \"s3://demo-gp-taxi-data/yellow_tripdata_sample_2019-01.csv\"},  # Add your S3 path here.\n",
    "    batch_identifiers={\"default_identifier_name\": \"default_identifier\"},\n",
    ")"
   ]
  },
  {
   "cell_type": "markdown",
   "id": "48b21b74",
   "metadata": {},
   "source": [
    "## Create Placeholder Suite\n",
    "\n",
    "Let's create a placeholder expectation suite (i.e. no validations/expectations) and let's run it on the batch we just created above. Note: since the expectation suite is empty, you may see warning messages about it. It's fine to ignore those for now."
   ]
  },
  {
   "cell_type": "code",
   "execution_count": null,
   "id": "d54d1c62",
   "metadata": {
    "scrolled": true
   },
   "outputs": [],
   "source": [
    "exp_suite_name = \"test_suite\"\n",
    "context.create_expectation_suite(\n",
    "    expectation_suite_name=exp_suite_name, overwrite_existing=True\n",
    ")\n",
    "validator = context.get_validator(\n",
    "    batch_request=batch_request, expectation_suite_name=exp_suite_name\n",
    ")\n",
    "print(validator.head())"
   ]
  },
  {
   "cell_type": "markdown",
   "id": "659b3888",
   "metadata": {},
   "source": [
    "## Add Expectations To Suite\n",
    "\n",
    "Now that we know the suite and batch of data is correctly setup, we can add [Expectations](https://greatexpectations.io/expectations) to the suite."
   ]
  },
  {
   "cell_type": "code",
   "execution_count": null,
   "id": "b4d5b720",
   "metadata": {
    "scrolled": true
   },
   "outputs": [],
   "source": [
    "validator.expect_column_values_to_not_be_null(column=\"passenger_count\")\n",
    "\n",
    "validator.expect_column_values_to_be_between(\n",
    "    column=\"congestion_surcharge\", min_value=0, max_value=1000\n",
    ")"
   ]
  },
  {
   "cell_type": "code",
   "execution_count": null,
   "id": "8b822d36",
   "metadata": {},
   "outputs": [],
   "source": [
    "validator.save_expectation_suite(discard_failed_expectations=False)"
   ]
  },
  {
   "cell_type": "markdown",
   "id": "3b0e8c12",
   "metadata": {},
   "source": [
    "## Create Checkpoint\n",
    "\n",
    "[Checkpoints](https://docs.greatexpectations.io/docs/terms/checkpoint/) provide a convenient abstraction for bundling the Validation of a Batch (or Batches) of data against an Expectation Suite (or several), as well as the Actions that should be taken after the validation. Because our use case is straight forward `SimpleCheckpoint` will suffice, but for more complex use cases `Checkpoint` should be used instead. "
   ]
  },
  {
   "cell_type": "code",
   "execution_count": null,
   "id": "f270a1b8",
   "metadata": {},
   "outputs": [],
   "source": [
    "my_checkpoint_name = \"taxi_data_validator\"\n",
    "checkpoint_config = {\n",
    "    \"name\": my_checkpoint_name,\n",
    "    \"config_version\": 1.0,\n",
    "    \"class_name\": \"SimpleCheckpoint\",\n",
    "    \"run_name_template\": \"%Y%m%d-%H%M%S-my-run-name-template\",\n",
    "}"
   ]
  },
  {
   "cell_type": "markdown",
   "id": "e8026b91",
   "metadata": {},
   "source": [
    "## Test Checkpoint Configuration\n",
    "\n",
    "Let's check the configuration thus far is correct. "
   ]
  },
  {
   "cell_type": "code",
   "execution_count": null,
   "id": "3f73b0d6",
   "metadata": {},
   "outputs": [],
   "source": [
    "my_checkpoint = context.test_yaml_config(yaml.dump(checkpoint_config))"
   ]
  },
  {
   "cell_type": "markdown",
   "id": "b0548b25",
   "metadata": {},
   "source": [
    "## Add Checkpoint to DataContext\n",
    "\n",
    "Let's add the skeleton Checkpoint to the DataContext"
   ]
  },
  {
   "cell_type": "code",
   "execution_count": null,
   "id": "9228f884",
   "metadata": {},
   "outputs": [],
   "source": [
    "context.add_or_update_checkpoint(**checkpoint_config)"
   ]
  },
  {
   "cell_type": "markdown",
   "id": "87a580f7",
   "metadata": {},
   "source": [
    "## Run Checkpoint with Batch and Expectation Suite \n",
    "\n",
    "Now that we have all the pieces, let's put them together."
   ]
  },
  {
   "cell_type": "code",
   "execution_count": null,
   "id": "ebea13ac",
   "metadata": {},
   "outputs": [],
   "source": [
    "checkpoint_result = context.run_checkpoint(\n",
    "    checkpoint_name=my_checkpoint_name,\n",
    "    validations=[\n",
    "        {\n",
    "            \"batch_request\": batch_request,\n",
    "            \"expectation_suite_name\": exp_suite_name,\n",
    "        }\n",
    "    ],\n",
    ")"
   ]
  },
  {
   "cell_type": "code",
   "execution_count": null,
   "id": "121dc800",
   "metadata": {},
   "outputs": [],
   "source": [
    "webbrowser.open('https://demo-data-docs.s3.amazonaws.com/index.html')"
   ]
  },
  {
   "cell_type": "code",
   "execution_count": null,
   "id": "576fe5a4",
   "metadata": {},
   "outputs": [],
   "source": []
  }
 ],
 "metadata": {
  "kernelspec": {
   "display_name": "Python 3 (ipykernel)",
   "language": "python",
   "name": "python3"
  },
  "language_info": {
   "codemirror_mode": {
    "name": "ipython",
    "version": 3
   },
   "file_extension": ".py",
   "mimetype": "text/x-python",
   "name": "python",
   "nbconvert_exporter": "python",
   "pygments_lexer": "ipython3",
   "version": "3.9.10"
  }
 },
 "nbformat": 4,
 "nbformat_minor": 5
}
